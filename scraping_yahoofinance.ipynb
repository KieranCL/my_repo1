{
 "cells": [
  {
   "cell_type": "markdown",
   "metadata": {},
   "source": [
    "## Capstone_project"
   ]
  },
  {
   "cell_type": "markdown",
   "metadata": {},
   "source": [
    "### Project description (Introduction/Business Problem)\n",
    "In this project, I will use some financial time series to predict the price of BIT/USD. The model will be used is simply a multiple linear regression. "
   ]
  },
  {
   "cell_type": "markdown",
   "metadata": {},
   "source": [
    "### Data description\n",
    "All the data are scraped from yahoo.finance including about 2000 daily records of the following time series: \n",
    "1. Bitcoin USD (BTC-USD)\n",
    "2. Treasury Yield 10 Years (^TNX)\n",
    "3. CBOE Volatility Index (^VIX)\n",
    "4. S&P 500 (^GSPC)\n",
    "5. NASDAQ Composite (^IXIC)\n",
    "\n",
    "Returns will be calculated."
   ]
  },
  {
   "cell_type": "code",
   "execution_count": 1,
   "metadata": {
    "collapsed": true
   },
   "outputs": [],
   "source": [
    "from bs4 import BeautifulSoup\n",
    "import requests\n",
    "import pandas as pd\n",
    "import numpy as np\n",
    "from datetime import datetime\n",
    "import time\n",
    "from pandas.tseries.offsets import BDay"
   ]
  },
  {
   "cell_type": "markdown",
   "metadata": {},
   "source": [
    "### section1 \n",
    "bridge_1() is a function to scrape the 100-period(day/week/month) historical data from yahoo.finance.\n",
    "Only 100 rows of historical data can be scraped every time for yahoo.finance :(\n",
    "But this problem has been solved by the code in section2."
   ]
  },
  {
   "cell_type": "code",
   "execution_count": 2,
   "metadata": {
    "collapsed": true
   },
   "outputs": [],
   "source": [
    "#start, end, tick, freq\n",
    "\n",
    "def bridge_1(start, end, tick, freq):\n",
    "    url = 'https://finance.yahoo.com/quote/'+tick+'/history?period1='\\\n",
    "                      +str(start)+'&period2='+str(end)+'&interval='+freq+'&filter=history&frequency='+freq\n",
    "    \n",
    "    source = requests.get(url).text\n",
    "    \n",
    "    soup = BeautifulSoup(source, 'lxml')\n",
    "\n",
    "    table = soup.find('table', class_='W(100%) M(0)') # find the table containing the historical data\n",
    "\n",
    "# Create the column names.\n",
    "    names = []\n",
    "    for th in table.thead.find_all('th'):\n",
    "        names.append(th.text.strip().rstrip().rstrip('*'))\n",
    "\n",
    "# Scrape the data and create a DataFrame.\n",
    "    row = [[]]\n",
    "    for tr in table.tbody.find_all('tr'):\n",
    "        try:\n",
    "            r=[]\n",
    "            for td in tr.find_all('td'):\n",
    "                r.append(''.join(td.text.split(','))) #remove the , mark in the values for later converting from str to float\n",
    "            row.append(r) # append each row\n",
    "        except:\n",
    "            pass\n",
    "    row = row[1:] # slice from 1 row since the 0 row is column names\n",
    "\n",
    "    df = pd.DataFrame(row, columns=names)\n",
    "    df['Date'] = pd.to_datetime(df['Date']) # convert str to datetime   \n",
    "    return df"
   ]
  },
  {
   "cell_type": "markdown",
   "metadata": {},
   "source": [
    "### section2"
   ]
  },
  {
   "cell_type": "markdown",
   "metadata": {},
   "source": [
    "Bitcoin USD (BTC-USD)"
   ]
  },
  {
   "cell_type": "code",
   "execution_count": 3,
   "metadata": {
    "scrolled": false
   },
   "outputs": [
    {
     "name": "stdout",
     "output_type": "stream",
     "text": [
      "(2000, 2)\n"
     ]
    },
    {
     "data": {
      "text/html": [
       "<div>\n",
       "<style>\n",
       "    .dataframe thead tr:only-child th {\n",
       "        text-align: right;\n",
       "    }\n",
       "\n",
       "    .dataframe thead th {\n",
       "        text-align: left;\n",
       "    }\n",
       "\n",
       "    .dataframe tbody tr th {\n",
       "        vertical-align: top;\n",
       "    }\n",
       "</style>\n",
       "<table border=\"1\" class=\"dataframe\">\n",
       "  <thead>\n",
       "    <tr style=\"text-align: right;\">\n",
       "      <th></th>\n",
       "      <th>Date</th>\n",
       "      <th>Return</th>\n",
       "    </tr>\n",
       "  </thead>\n",
       "  <tbody>\n",
       "    <tr>\n",
       "      <th>0</th>\n",
       "      <td>2019-07-24</td>\n",
       "      <td>-0.008322</td>\n",
       "    </tr>\n",
       "    <tr>\n",
       "      <th>1</th>\n",
       "      <td>2019-07-23</td>\n",
       "      <td>-0.045683</td>\n",
       "    </tr>\n",
       "    <tr>\n",
       "      <th>2</th>\n",
       "      <td>2019-07-22</td>\n",
       "      <td>-0.024638</td>\n",
       "    </tr>\n",
       "    <tr>\n",
       "      <th>3</th>\n",
       "      <td>2019-07-21</td>\n",
       "      <td>-0.016052</td>\n",
       "    </tr>\n",
       "    <tr>\n",
       "      <th>4</th>\n",
       "      <td>2019-07-20</td>\n",
       "      <td>0.021502</td>\n",
       "    </tr>\n",
       "  </tbody>\n",
       "</table>\n",
       "</div>"
      ],
      "text/plain": [
       "        Date    Return\n",
       "0 2019-07-24 -0.008322\n",
       "1 2019-07-23 -0.045683\n",
       "2 2019-07-22 -0.024638\n",
       "3 2019-07-21 -0.016052\n",
       "4 2019-07-20  0.021502"
      ]
     },
     "execution_count": 3,
     "metadata": {},
     "output_type": "execute_result"
    }
   ],
   "source": [
    "# set your parameters :)\n",
    "start = '2010 01 01'\n",
    "end = '2019 07 24'\n",
    "tick = 'BTC-USD'\n",
    "freq = '1d'\n",
    "days = 2000\n",
    "\n",
    "# convert the str to datetime\n",
    "start = datetime.strptime(start, '%Y %m %d')\n",
    "end = datetime.strptime(end, '%Y %m %d') + BDay(1) # to restore a bug: the latest day is not retrieved in the result.\n",
    "\n",
    "start = int(time.mktime(start.timetuple())) # convert the datatime to a floating point number \n",
    "    \n",
    "for i in range(int(days/100)):  \n",
    "    end = int(time.mktime(end.timetuple()))     \n",
    "    df = bridge_1(start, end, tick, freq)    \n",
    "    if i == 0:\n",
    "        df2 = df\n",
    "    if i > 0:\n",
    "        df2 = df2.append(df, ignore_index=True)            \n",
    "    end = datetime.fromtimestamp(end) - BDay(100) # convert the floating point number to datatime and minus 100 bdays \n",
    "\n",
    "df2 = df2.drop_duplicates() # due to a unknown bug, some days were scraped more than once, however rarely.  \n",
    "df2 = df2[['Date','Open','Close']] # remove the unnecessary columns\n",
    "df2.replace('-', np.nan, inplace=True)\n",
    "df2.iloc[:,1:]=df2.iloc[:,1:].astype(float)\n",
    "df2['Return'] = df2.Close/df2.Open - 1\n",
    "df2 = df2[['Date','Return']]\n",
    "print(df2.shape)\n",
    "df2.head()"
   ]
  },
  {
   "cell_type": "code",
   "execution_count": 4,
   "metadata": {
    "collapsed": true
   },
   "outputs": [],
   "source": [
    "bit = df2"
   ]
  },
  {
   "cell_type": "markdown",
   "metadata": {},
   "source": [
    "Treasury Yield 10 Years (^TNX)"
   ]
  },
  {
   "cell_type": "code",
   "execution_count": 5,
   "metadata": {},
   "outputs": [
    {
     "name": "stdout",
     "output_type": "stream",
     "text": [
      "(1932, 2)\n"
     ]
    },
    {
     "data": {
      "text/html": [
       "<div>\n",
       "<style>\n",
       "    .dataframe thead tr:only-child th {\n",
       "        text-align: right;\n",
       "    }\n",
       "\n",
       "    .dataframe thead th {\n",
       "        text-align: left;\n",
       "    }\n",
       "\n",
       "    .dataframe tbody tr th {\n",
       "        vertical-align: top;\n",
       "    }\n",
       "</style>\n",
       "<table border=\"1\" class=\"dataframe\">\n",
       "  <thead>\n",
       "    <tr style=\"text-align: right;\">\n",
       "      <th></th>\n",
       "      <th>Date</th>\n",
       "      <th>Return</th>\n",
       "    </tr>\n",
       "  </thead>\n",
       "  <tbody>\n",
       "    <tr>\n",
       "      <th>0</th>\n",
       "      <td>2019-07-24</td>\n",
       "      <td>-0.000975</td>\n",
       "    </tr>\n",
       "    <tr>\n",
       "      <th>1</th>\n",
       "      <td>2019-07-23</td>\n",
       "      <td>0.012695</td>\n",
       "    </tr>\n",
       "    <tr>\n",
       "      <th>2</th>\n",
       "      <td>2019-07-22</td>\n",
       "      <td>-0.003415</td>\n",
       "    </tr>\n",
       "    <tr>\n",
       "      <th>3</th>\n",
       "      <td>2019-07-19</td>\n",
       "      <td>0.000489</td>\n",
       "    </tr>\n",
       "    <tr>\n",
       "      <th>4</th>\n",
       "      <td>2019-07-18</td>\n",
       "      <td>-0.010199</td>\n",
       "    </tr>\n",
       "  </tbody>\n",
       "</table>\n",
       "</div>"
      ],
      "text/plain": [
       "        Date    Return\n",
       "0 2019-07-24 -0.000975\n",
       "1 2019-07-23  0.012695\n",
       "2 2019-07-22 -0.003415\n",
       "3 2019-07-19  0.000489\n",
       "4 2019-07-18 -0.010199"
      ]
     },
     "execution_count": 5,
     "metadata": {},
     "output_type": "execute_result"
    }
   ],
   "source": [
    "# set your parameters :)\n",
    "start = '2010 01 01'\n",
    "end = '2019 07 24'\n",
    "tick = '%5ETNX'\n",
    "freq = '1d'\n",
    "days = 2000\n",
    "\n",
    "# convert the str to datetime\n",
    "start = datetime.strptime(start, '%Y %m %d')\n",
    "end = datetime.strptime(end, '%Y %m %d')+BDay(1) # to restore a bug: the latest day is not retrieved in the result.\n",
    "\n",
    "start = int(time.mktime(start.timetuple())) # convert the datatime to a floating point number \n",
    "    \n",
    "for i in range(int(days/100)):  \n",
    "    end = int(time.mktime(end.timetuple()))     \n",
    "    df = bridge_1(start, end, tick, freq)    \n",
    "    if i == 0:\n",
    "        df2 = df\n",
    "    if i > 0:\n",
    "        df2 = df2.append(df, ignore_index=True)            \n",
    "    end = datetime.fromtimestamp(end)-BDay(100) # convert the floating point number to datatime and minus 100 bdays \n",
    "\n",
    "df2 = df2.drop_duplicates() # due to a unknown bug, some days were scraped more than once, however rarely.  \n",
    "df2 = df2[['Date','Open','Close']] # remove the unnecessary columns\n",
    "df2.replace('-', np.nan, inplace=True)\n",
    "# df2[df2['Open'].str.contains('-') | df2['Close'].str.contains('-')].index[0]\n",
    "df2.iloc[:,1:]=df2.iloc[:,1:].astype(float)\n",
    "df2['Return'] = df2.Close/df2.Open-1\n",
    "df2 = df2[['Date','Return']]\n",
    "print(df2.shape)\n",
    "df2.head()"
   ]
  },
  {
   "cell_type": "code",
   "execution_count": 6,
   "metadata": {
    "collapsed": true
   },
   "outputs": [],
   "source": [
    "treasury_yield10 = df2"
   ]
  },
  {
   "cell_type": "markdown",
   "metadata": {},
   "source": [
    "CBOE Volatility Index (^VIX)"
   ]
  },
  {
   "cell_type": "code",
   "execution_count": 7,
   "metadata": {},
   "outputs": [
    {
     "name": "stdout",
     "output_type": "stream",
     "text": [
      "(1932, 2)\n"
     ]
    },
    {
     "data": {
      "text/html": [
       "<div>\n",
       "<style>\n",
       "    .dataframe thead tr:only-child th {\n",
       "        text-align: right;\n",
       "    }\n",
       "\n",
       "    .dataframe thead th {\n",
       "        text-align: left;\n",
       "    }\n",
       "\n",
       "    .dataframe tbody tr th {\n",
       "        vertical-align: top;\n",
       "    }\n",
       "</style>\n",
       "<table border=\"1\" class=\"dataframe\">\n",
       "  <thead>\n",
       "    <tr style=\"text-align: right;\">\n",
       "      <th></th>\n",
       "      <th>Date</th>\n",
       "      <th>Return</th>\n",
       "    </tr>\n",
       "  </thead>\n",
       "  <tbody>\n",
       "    <tr>\n",
       "      <th>0</th>\n",
       "      <td>2019-07-24</td>\n",
       "      <td>-0.057031</td>\n",
       "    </tr>\n",
       "    <tr>\n",
       "      <th>1</th>\n",
       "      <td>2019-07-23</td>\n",
       "      <td>-0.060358</td>\n",
       "    </tr>\n",
       "    <tr>\n",
       "      <th>2</th>\n",
       "      <td>2019-07-22</td>\n",
       "      <td>-0.070103</td>\n",
       "    </tr>\n",
       "    <tr>\n",
       "      <th>3</th>\n",
       "      <td>2019-07-19</td>\n",
       "      <td>0.085650</td>\n",
       "    </tr>\n",
       "    <tr>\n",
       "      <th>4</th>\n",
       "      <td>2019-07-18</td>\n",
       "      <td>-0.063668</td>\n",
       "    </tr>\n",
       "  </tbody>\n",
       "</table>\n",
       "</div>"
      ],
      "text/plain": [
       "        Date    Return\n",
       "0 2019-07-24 -0.057031\n",
       "1 2019-07-23 -0.060358\n",
       "2 2019-07-22 -0.070103\n",
       "3 2019-07-19  0.085650\n",
       "4 2019-07-18 -0.063668"
      ]
     },
     "execution_count": 7,
     "metadata": {},
     "output_type": "execute_result"
    }
   ],
   "source": [
    "# set your parameters :)\n",
    "start = '2010 01 01'\n",
    "end = '2019 07 24'\n",
    "tick = '%5EVIX'\n",
    "freq = '1d'\n",
    "days = 2000\n",
    "\n",
    "# convert the str to datetime\n",
    "start = datetime.strptime(start, '%Y %m %d')\n",
    "end = datetime.strptime(end, '%Y %m %d')+BDay(1) # to restore a bug: the latest day is not retrieved in the result.\n",
    "\n",
    "start = int(time.mktime(start.timetuple())) # convert the datatime to a floating point number \n",
    "    \n",
    "for i in range(int(days/100)):  \n",
    "    end = int(time.mktime(end.timetuple()))     \n",
    "    df = bridge_1(start, end, tick, freq)    \n",
    "    if i == 0:\n",
    "        df2 = df\n",
    "    if i > 0:\n",
    "        df2 = df2.append(df, ignore_index=True)            \n",
    "    end = datetime.fromtimestamp(end)-BDay(100) # convert the floating point number to datatime and minus 100 bdays \n",
    "\n",
    "df2 = df2.drop_duplicates() # due to a unknown bug, some days were scraped more than once, however rarely.  \n",
    "df2 = df2[['Date','Open','Close']] # remove the unnecessary columns\n",
    "df2.replace('-', np.nan, inplace=True)\n",
    "df2.iloc[:,1:]=df2.iloc[:,1:].astype(float)\n",
    "df2['Return'] = df2.Close/df2.Open-1\n",
    "df2 = df2[['Date','Return']]\n",
    "print(df2.shape)\n",
    "df2.head()"
   ]
  },
  {
   "cell_type": "code",
   "execution_count": 8,
   "metadata": {
    "collapsed": true
   },
   "outputs": [],
   "source": [
    "vix = df2"
   ]
  },
  {
   "cell_type": "markdown",
   "metadata": {},
   "source": [
    "S&P 500 (^GSPC)"
   ]
  },
  {
   "cell_type": "code",
   "execution_count": 9,
   "metadata": {},
   "outputs": [
    {
     "name": "stdout",
     "output_type": "stream",
     "text": [
      "(1932, 2)\n"
     ]
    },
    {
     "data": {
      "text/html": [
       "<div>\n",
       "<style>\n",
       "    .dataframe thead tr:only-child th {\n",
       "        text-align: right;\n",
       "    }\n",
       "\n",
       "    .dataframe thead th {\n",
       "        text-align: left;\n",
       "    }\n",
       "\n",
       "    .dataframe tbody tr th {\n",
       "        vertical-align: top;\n",
       "    }\n",
       "</style>\n",
       "<table border=\"1\" class=\"dataframe\">\n",
       "  <thead>\n",
       "    <tr style=\"text-align: right;\">\n",
       "      <th></th>\n",
       "      <th>Date</th>\n",
       "      <th>Return</th>\n",
       "    </tr>\n",
       "  </thead>\n",
       "  <tbody>\n",
       "    <tr>\n",
       "      <th>0</th>\n",
       "      <td>2019-07-24</td>\n",
       "      <td>0.006933</td>\n",
       "    </tr>\n",
       "    <tr>\n",
       "      <th>1</th>\n",
       "      <td>2019-07-23</td>\n",
       "      <td>0.003583</td>\n",
       "    </tr>\n",
       "    <tr>\n",
       "      <th>2</th>\n",
       "      <td>2019-07-22</td>\n",
       "      <td>0.001040</td>\n",
       "    </tr>\n",
       "    <tr>\n",
       "      <th>3</th>\n",
       "      <td>2019-07-19</td>\n",
       "      <td>-0.009204</td>\n",
       "    </tr>\n",
       "    <tr>\n",
       "      <th>4</th>\n",
       "      <td>2019-07-18</td>\n",
       "      <td>0.005452</td>\n",
       "    </tr>\n",
       "  </tbody>\n",
       "</table>\n",
       "</div>"
      ],
      "text/plain": [
       "        Date    Return\n",
       "0 2019-07-24  0.006933\n",
       "1 2019-07-23  0.003583\n",
       "2 2019-07-22  0.001040\n",
       "3 2019-07-19 -0.009204\n",
       "4 2019-07-18  0.005452"
      ]
     },
     "execution_count": 9,
     "metadata": {},
     "output_type": "execute_result"
    }
   ],
   "source": [
    "# set your parameters :)\n",
    "start = '2010 01 01'\n",
    "end = '2019 07 24'\n",
    "tick = '%5EGSPC'\n",
    "freq = '1d'\n",
    "days = 2000\n",
    "\n",
    "# convert the str to datetime\n",
    "start = datetime.strptime(start, '%Y %m %d')\n",
    "end = datetime.strptime(end, '%Y %m %d')+BDay(1) # to restore a bug: the latest day is not retrieved in the result.\n",
    "\n",
    "start = int(time.mktime(start.timetuple())) # convert the datatime to a floating point number \n",
    "    \n",
    "for i in range(int(days/100)):  \n",
    "    end = int(time.mktime(end.timetuple()))     \n",
    "    df = bridge_1(start, end, tick, freq)    \n",
    "    if i == 0:\n",
    "        df2 = df\n",
    "    if i > 0:\n",
    "        df2 = df2.append(df, ignore_index=True)            \n",
    "    end = datetime.fromtimestamp(end)-BDay(100) # convert the floating point number to datatime and minus 100 bdays \n",
    "\n",
    "df2 = df2.drop_duplicates() # due to a unknown bug, some days were scraped more than once, however rarely.  \n",
    "df2 = df2[['Date','Open','Close']] # remove the unnecessary columns\n",
    "df2.replace('-', np.nan, inplace=True)\n",
    "df2.iloc[:,1:]=df2.iloc[:,1:].astype(float)\n",
    "df2['Return'] = df2.Close/df2.Open-1\n",
    "df2 = df2[['Date','Return']]\n",
    "print(df2.shape)\n",
    "df2.head()"
   ]
  },
  {
   "cell_type": "code",
   "execution_count": 10,
   "metadata": {
    "collapsed": true
   },
   "outputs": [],
   "source": [
    "sp500 = df2"
   ]
  },
  {
   "cell_type": "markdown",
   "metadata": {},
   "source": [
    "NASDAQ Composite (^IXIC)"
   ]
  },
  {
   "cell_type": "code",
   "execution_count": 11,
   "metadata": {
    "scrolled": true
   },
   "outputs": [
    {
     "name": "stdout",
     "output_type": "stream",
     "text": [
      "(1932, 2)\n"
     ]
    },
    {
     "data": {
      "text/html": [
       "<div>\n",
       "<style>\n",
       "    .dataframe thead tr:only-child th {\n",
       "        text-align: right;\n",
       "    }\n",
       "\n",
       "    .dataframe thead th {\n",
       "        text-align: left;\n",
       "    }\n",
       "\n",
       "    .dataframe tbody tr th {\n",
       "        vertical-align: top;\n",
       "    }\n",
       "</style>\n",
       "<table border=\"1\" class=\"dataframe\">\n",
       "  <thead>\n",
       "    <tr style=\"text-align: right;\">\n",
       "      <th></th>\n",
       "      <th>Date</th>\n",
       "      <th>Return</th>\n",
       "    </tr>\n",
       "  </thead>\n",
       "  <tbody>\n",
       "    <tr>\n",
       "      <th>0</th>\n",
       "      <td>2019-07-24</td>\n",
       "      <td>0.011442</td>\n",
       "    </tr>\n",
       "    <tr>\n",
       "      <th>1</th>\n",
       "      <td>2019-07-23</td>\n",
       "      <td>0.001080</td>\n",
       "    </tr>\n",
       "    <tr>\n",
       "      <th>2</th>\n",
       "      <td>2019-07-22</td>\n",
       "      <td>0.003934</td>\n",
       "    </tr>\n",
       "    <tr>\n",
       "      <th>3</th>\n",
       "      <td>2019-07-19</td>\n",
       "      <td>-0.011509</td>\n",
       "    </tr>\n",
       "    <tr>\n",
       "      <th>4</th>\n",
       "      <td>2019-07-18</td>\n",
       "      <td>0.006806</td>\n",
       "    </tr>\n",
       "  </tbody>\n",
       "</table>\n",
       "</div>"
      ],
      "text/plain": [
       "        Date    Return\n",
       "0 2019-07-24  0.011442\n",
       "1 2019-07-23  0.001080\n",
       "2 2019-07-22  0.003934\n",
       "3 2019-07-19 -0.011509\n",
       "4 2019-07-18  0.006806"
      ]
     },
     "execution_count": 11,
     "metadata": {},
     "output_type": "execute_result"
    }
   ],
   "source": [
    "# set your parameters :)\n",
    "start = '2010 01 01'\n",
    "end = '2019 07 24'\n",
    "tick = '%5EIXIC'\n",
    "freq = '1d'\n",
    "days = 2000\n",
    "\n",
    "# convert the str to datetime\n",
    "start = datetime.strptime(start, '%Y %m %d')\n",
    "end = datetime.strptime(end, '%Y %m %d')+BDay(1) # to restore a bug: the latest day is not retrieved in the result.\n",
    "\n",
    "start = int(time.mktime(start.timetuple())) # convert the datatime to a floating point number \n",
    "    \n",
    "for i in range(int(days/100)):  \n",
    "    end = int(time.mktime(end.timetuple()))     \n",
    "    df = bridge_1(start, end, tick, freq)    \n",
    "    if i == 0:\n",
    "        df2 = df\n",
    "    if i > 0:\n",
    "        df2 = df2.append(df, ignore_index=True)            \n",
    "    end = datetime.fromtimestamp(end)-BDay(100) # convert the floating point number to datatime and minus 100 bdays \n",
    "\n",
    "df2 = df2.drop_duplicates() # due to a unknown bug, some days were scraped more than once, however rarely.  \n",
    "df2 = df2[['Date','Open','Close']] # remove the unnecessary columns\n",
    "df2.replace('-', np.nan, inplace=True)\n",
    "df2.iloc[:,1:]=df2.iloc[:,1:].astype(float)\n",
    "df2['Return'] = df2.Close/df2.Open-1\n",
    "df2 = df2[['Date','Return']]\n",
    "print(df2.shape)\n",
    "df2.head()"
   ]
  },
  {
   "cell_type": "code",
   "execution_count": 12,
   "metadata": {
    "collapsed": true
   },
   "outputs": [],
   "source": [
    "nasdaq = df2"
   ]
  },
  {
   "cell_type": "markdown",
   "metadata": {},
   "source": [
    "Merge all the series into one set"
   ]
  },
  {
   "cell_type": "code",
   "execution_count": 13,
   "metadata": {
    "collapsed": true
   },
   "outputs": [],
   "source": [
    "df3 = bit.merge(treasury_yield10, on='Date').merge(vix, on='Date')\\\n",
    "    .merge(sp500, on='Date').merge(nasdaq, on='Date')"
   ]
  },
  {
   "cell_type": "code",
   "execution_count": 14,
   "metadata": {
    "collapsed": true
   },
   "outputs": [],
   "source": [
    "df3.columns = ['Date','BIT/USD','T_yield10','VIX','SP500','Nasdaq']"
   ]
  },
  {
   "cell_type": "code",
   "execution_count": 15,
   "metadata": {
    "scrolled": true
   },
   "outputs": [
    {
     "name": "stdout",
     "output_type": "stream",
     "text": [
      "(1389, 6)\n",
      "(1389, 5)\n",
      "(1388, 6)\n"
     ]
    },
    {
     "data": {
      "text/html": [
       "<div>\n",
       "<style>\n",
       "    .dataframe thead tr:only-child th {\n",
       "        text-align: right;\n",
       "    }\n",
       "\n",
       "    .dataframe thead th {\n",
       "        text-align: left;\n",
       "    }\n",
       "\n",
       "    .dataframe tbody tr th {\n",
       "        vertical-align: top;\n",
       "    }\n",
       "</style>\n",
       "<table border=\"1\" class=\"dataframe\">\n",
       "  <thead>\n",
       "    <tr style=\"text-align: right;\">\n",
       "      <th></th>\n",
       "      <th>Date</th>\n",
       "      <th>BIT/USD</th>\n",
       "      <th>T_yield10</th>\n",
       "      <th>VIX</th>\n",
       "      <th>SP500</th>\n",
       "      <th>Nasdaq</th>\n",
       "    </tr>\n",
       "  </thead>\n",
       "  <tbody>\n",
       "    <tr>\n",
       "      <th>0</th>\n",
       "      <td>2019-07-24</td>\n",
       "      <td>-0.133735</td>\n",
       "      <td>-0.047081</td>\n",
       "      <td>-0.812711</td>\n",
       "      <td>0.916496</td>\n",
       "      <td>1.409543</td>\n",
       "    </tr>\n",
       "    <tr>\n",
       "      <th>1</th>\n",
       "      <td>2019-07-23</td>\n",
       "      <td>-0.490299</td>\n",
       "      <td>0.833123</td>\n",
       "      <td>-0.863676</td>\n",
       "      <td>0.461426</td>\n",
       "      <td>0.101935</td>\n",
       "    </tr>\n",
       "    <tr>\n",
       "      <th>2</th>\n",
       "      <td>2019-07-22</td>\n",
       "      <td>-0.289452</td>\n",
       "      <td>-0.204191</td>\n",
       "      <td>-1.012988</td>\n",
       "      <td>0.115922</td>\n",
       "      <td>0.462121</td>\n",
       "    </tr>\n",
       "    <tr>\n",
       "      <th>3</th>\n",
       "      <td>2019-07-19</td>\n",
       "      <td>-0.148872</td>\n",
       "      <td>0.047132</td>\n",
       "      <td>1.373350</td>\n",
       "      <td>-1.275574</td>\n",
       "      <td>-1.486597</td>\n",
       "    </tr>\n",
       "    <tr>\n",
       "      <th>4</th>\n",
       "      <td>2019-07-18</td>\n",
       "      <td>0.873084</td>\n",
       "      <td>-0.641041</td>\n",
       "      <td>-0.914392</td>\n",
       "      <td>0.715293</td>\n",
       "      <td>0.824492</td>\n",
       "    </tr>\n",
       "  </tbody>\n",
       "</table>\n",
       "</div>"
      ],
      "text/plain": [
       "        Date   BIT/USD  T_yield10       VIX     SP500    Nasdaq\n",
       "0 2019-07-24 -0.133735  -0.047081 -0.812711  0.916496  1.409543\n",
       "1 2019-07-23 -0.490299   0.833123 -0.863676  0.461426  0.101935\n",
       "2 2019-07-22 -0.289452  -0.204191 -1.012988  0.115922  0.462121\n",
       "3 2019-07-19 -0.148872   0.047132  1.373350 -1.275574 -1.486597\n",
       "4 2019-07-18  0.873084  -0.641041 -0.914392  0.715293  0.824492"
      ]
     },
     "execution_count": 15,
     "metadata": {},
     "output_type": "execute_result"
    }
   ],
   "source": [
    "from scipy import stats\n",
    "from sklearn import preprocessing \n",
    "\n",
    "df3.dropna(inplace=True) #drop the missing values\n",
    "print(df3.shape)\n",
    "\n",
    "df4 = preprocessing.StandardScaler().fit(df3.iloc[:,1:]).transform(df3.iloc[:,1:]) #normalization\n",
    "df4 = pd.DataFrame(df4)\n",
    "print(df4.shape)\n",
    "\n",
    "df4 = pd.concat([df3[['Date']],df4], axis=1, join='inner', ignore_index=True) \n",
    "print(df4.shape)\n",
    "\n",
    "df4.columns = ['Date','BIT/USD','T_yield10','VIX','SP500','Nasdaq']\n",
    "df4.head()"
   ]
  },
  {
   "cell_type": "code",
   "execution_count": 16,
   "metadata": {},
   "outputs": [
    {
     "data": {
      "text/plain": [
       "<matplotlib.axes._subplots.AxesSubplot at 0x118045860>"
      ]
     },
     "execution_count": 16,
     "metadata": {},
     "output_type": "execute_result"
    }
   ],
   "source": [
    "df4.boxplot()"
   ]
  },
  {
   "cell_type": "code",
   "execution_count": 17,
   "metadata": {},
   "outputs": [
    {
     "name": "stdout",
     "output_type": "stream",
     "text": [
      "(1341, 6)\n"
     ]
    }
   ],
   "source": [
    "# remove the outliers\n",
    "df4 = df4[ (df4['T_yield10']<3) & (df4['VIX']<3) & (df4['SP500']<3) & (df4['Nasdaq']<3) & (df4['BIT/USD']<3) ]\n",
    "print(df4.shape)"
   ]
  },
  {
   "cell_type": "code",
   "execution_count": 18,
   "metadata": {
    "scrolled": true
   },
   "outputs": [
    {
     "data": {
      "text/plain": [
       "<matplotlib.axes._subplots.AxesSubplot at 0x118045860>"
      ]
     },
     "execution_count": 18,
     "metadata": {},
     "output_type": "execute_result"
    }
   ],
   "source": [
    "df4.boxplot()"
   ]
  },
  {
   "cell_type": "code",
   "execution_count": 19,
   "metadata": {
    "scrolled": true
   },
   "outputs": [
    {
     "name": "stdout",
     "output_type": "stream",
     "text": [
      "(1341, 4)\n"
     ]
    },
    {
     "data": {
      "text/html": [
       "<div>\n",
       "<style>\n",
       "    .dataframe thead tr:only-child th {\n",
       "        text-align: right;\n",
       "    }\n",
       "\n",
       "    .dataframe thead th {\n",
       "        text-align: left;\n",
       "    }\n",
       "\n",
       "    .dataframe tbody tr th {\n",
       "        vertical-align: top;\n",
       "    }\n",
       "</style>\n",
       "<table border=\"1\" class=\"dataframe\">\n",
       "  <thead>\n",
       "    <tr style=\"text-align: right;\">\n",
       "      <th></th>\n",
       "      <th>T_yield10</th>\n",
       "      <th>VIX</th>\n",
       "      <th>SP500</th>\n",
       "      <th>Nasdaq</th>\n",
       "    </tr>\n",
       "  </thead>\n",
       "  <tbody>\n",
       "    <tr>\n",
       "      <th>0</th>\n",
       "      <td>-0.047081</td>\n",
       "      <td>-0.812711</td>\n",
       "      <td>0.916496</td>\n",
       "      <td>1.409543</td>\n",
       "    </tr>\n",
       "    <tr>\n",
       "      <th>1</th>\n",
       "      <td>0.833123</td>\n",
       "      <td>-0.863676</td>\n",
       "      <td>0.461426</td>\n",
       "      <td>0.101935</td>\n",
       "    </tr>\n",
       "    <tr>\n",
       "      <th>2</th>\n",
       "      <td>-0.204191</td>\n",
       "      <td>-1.012988</td>\n",
       "      <td>0.115922</td>\n",
       "      <td>0.462121</td>\n",
       "    </tr>\n",
       "    <tr>\n",
       "      <th>3</th>\n",
       "      <td>0.047132</td>\n",
       "      <td>1.373350</td>\n",
       "      <td>-1.275574</td>\n",
       "      <td>-1.486597</td>\n",
       "    </tr>\n",
       "    <tr>\n",
       "      <th>4</th>\n",
       "      <td>-0.641041</td>\n",
       "      <td>-0.914392</td>\n",
       "      <td>0.715293</td>\n",
       "      <td>0.824492</td>\n",
       "    </tr>\n",
       "  </tbody>\n",
       "</table>\n",
       "</div>"
      ],
      "text/plain": [
       "   T_yield10       VIX     SP500    Nasdaq\n",
       "0  -0.047081 -0.812711  0.916496  1.409543\n",
       "1   0.833123 -0.863676  0.461426  0.101935\n",
       "2  -0.204191 -1.012988  0.115922  0.462121\n",
       "3   0.047132  1.373350 -1.275574 -1.486597\n",
       "4  -0.641041 -0.914392  0.715293  0.824492"
      ]
     },
     "execution_count": 19,
     "metadata": {},
     "output_type": "execute_result"
    }
   ],
   "source": [
    "X = df4[['T_yield10','VIX','SP500','Nasdaq']]\n",
    "print(X.shape)\n",
    "X.head()"
   ]
  },
  {
   "cell_type": "code",
   "execution_count": 20,
   "metadata": {},
   "outputs": [
    {
     "name": "stdout",
     "output_type": "stream",
     "text": [
      "(1341, 1)\n"
     ]
    },
    {
     "data": {
      "text/html": [
       "<div>\n",
       "<style>\n",
       "    .dataframe thead tr:only-child th {\n",
       "        text-align: right;\n",
       "    }\n",
       "\n",
       "    .dataframe thead th {\n",
       "        text-align: left;\n",
       "    }\n",
       "\n",
       "    .dataframe tbody tr th {\n",
       "        vertical-align: top;\n",
       "    }\n",
       "</style>\n",
       "<table border=\"1\" class=\"dataframe\">\n",
       "  <thead>\n",
       "    <tr style=\"text-align: right;\">\n",
       "      <th></th>\n",
       "      <th>BIT/USD</th>\n",
       "    </tr>\n",
       "  </thead>\n",
       "  <tbody>\n",
       "    <tr>\n",
       "      <th>0</th>\n",
       "      <td>-0.133735</td>\n",
       "    </tr>\n",
       "    <tr>\n",
       "      <th>1</th>\n",
       "      <td>-0.490299</td>\n",
       "    </tr>\n",
       "    <tr>\n",
       "      <th>2</th>\n",
       "      <td>-0.289452</td>\n",
       "    </tr>\n",
       "    <tr>\n",
       "      <th>3</th>\n",
       "      <td>-0.148872</td>\n",
       "    </tr>\n",
       "    <tr>\n",
       "      <th>4</th>\n",
       "      <td>0.873084</td>\n",
       "    </tr>\n",
       "  </tbody>\n",
       "</table>\n",
       "</div>"
      ],
      "text/plain": [
       "    BIT/USD\n",
       "0 -0.133735\n",
       "1 -0.490299\n",
       "2 -0.289452\n",
       "3 -0.148872\n",
       "4  0.873084"
      ]
     },
     "execution_count": 20,
     "metadata": {},
     "output_type": "execute_result"
    }
   ],
   "source": [
    "y = df4[['BIT/USD']]\n",
    "print(y.shape)\n",
    "y.head()"
   ]
  },
  {
   "cell_type": "markdown",
   "metadata": {},
   "source": [
    "### section3"
   ]
  },
  {
   "cell_type": "code",
   "execution_count": 21,
   "metadata": {},
   "outputs": [],
   "source": [
    "from sklearn.linear_model import LinearRegression\n",
    "from sklearn.model_selection import train_test_split\n",
    "import matplotlib.pyplot as plt\n",
    "import seaborn as sns\n",
    "%matplotlib inline"
   ]
  },
  {
   "cell_type": "code",
   "execution_count": 22,
   "metadata": {
    "scrolled": false
   },
   "outputs": [
    {
     "data": {
      "text/html": [
       "<div>\n",
       "<style>\n",
       "    .dataframe thead tr:only-child th {\n",
       "        text-align: right;\n",
       "    }\n",
       "\n",
       "    .dataframe thead th {\n",
       "        text-align: left;\n",
       "    }\n",
       "\n",
       "    .dataframe tbody tr th {\n",
       "        vertical-align: top;\n",
       "    }\n",
       "</style>\n",
       "<table border=\"1\" class=\"dataframe\">\n",
       "  <thead>\n",
       "    <tr style=\"text-align: right;\">\n",
       "      <th></th>\n",
       "      <th>BIT/USD</th>\n",
       "      <th>T_yield10</th>\n",
       "      <th>VIX</th>\n",
       "      <th>SP500</th>\n",
       "      <th>Nasdaq</th>\n",
       "    </tr>\n",
       "  </thead>\n",
       "  <tbody>\n",
       "    <tr>\n",
       "      <th>BIT/USD</th>\n",
       "      <td>1.000000</td>\n",
       "      <td>0.012101</td>\n",
       "      <td>0.011591</td>\n",
       "      <td>-0.055449</td>\n",
       "      <td>-0.011020</td>\n",
       "    </tr>\n",
       "    <tr>\n",
       "      <th>T_yield10</th>\n",
       "      <td>0.012101</td>\n",
       "      <td>1.000000</td>\n",
       "      <td>-0.135195</td>\n",
       "      <td>0.245889</td>\n",
       "      <td>0.196545</td>\n",
       "    </tr>\n",
       "    <tr>\n",
       "      <th>VIX</th>\n",
       "      <td>0.011591</td>\n",
       "      <td>-0.135195</td>\n",
       "      <td>1.000000</td>\n",
       "      <td>-0.618184</td>\n",
       "      <td>-0.681143</td>\n",
       "    </tr>\n",
       "    <tr>\n",
       "      <th>SP500</th>\n",
       "      <td>-0.055449</td>\n",
       "      <td>0.245889</td>\n",
       "      <td>-0.618184</td>\n",
       "      <td>1.000000</td>\n",
       "      <td>0.788400</td>\n",
       "    </tr>\n",
       "    <tr>\n",
       "      <th>Nasdaq</th>\n",
       "      <td>-0.011020</td>\n",
       "      <td>0.196545</td>\n",
       "      <td>-0.681143</td>\n",
       "      <td>0.788400</td>\n",
       "      <td>1.000000</td>\n",
       "    </tr>\n",
       "  </tbody>\n",
       "</table>\n",
       "</div>"
      ],
      "text/plain": [
       "            BIT/USD  T_yield10       VIX     SP500    Nasdaq\n",
       "BIT/USD    1.000000   0.012101  0.011591 -0.055449 -0.011020\n",
       "T_yield10  0.012101   1.000000 -0.135195  0.245889  0.196545\n",
       "VIX        0.011591  -0.135195  1.000000 -0.618184 -0.681143\n",
       "SP500     -0.055449   0.245889 -0.618184  1.000000  0.788400\n",
       "Nasdaq    -0.011020   0.196545 -0.681143  0.788400  1.000000"
      ]
     },
     "execution_count": 22,
     "metadata": {},
     "output_type": "execute_result"
    }
   ],
   "source": [
    "df4.corr()"
   ]
  },
  {
   "cell_type": "markdown",
   "metadata": {},
   "source": [
    "As can be seen from the correlation matrix, there is no strong correlation between the BIT/USE and the others. "
   ]
  },
  {
   "cell_type": "code",
   "execution_count": 23,
   "metadata": {
    "scrolled": false
   },
   "outputs": [
    {
     "name": "stderr",
     "output_type": "stream",
     "text": [
      "/anaconda3/lib/python3.6/site-packages/scipy/stats/stats.py:1633: FutureWarning: Using a non-tuple sequence for multidimensional indexing is deprecated; use `arr[tuple(seq)]` instead of `arr[seq]`. In the future this will be interpreted as an array index, `arr[np.array(seq)]`, which will result either in an error or a different result.\n",
      "  return np.add.reduce(sorted[indexer] * weights, axis=axis) / sumval\n"
     ]
    },
    {
     "data": {
      "text/plain": [
       "<matplotlib.axes._subplots.AxesSubplot at 0x117b37f60>"
      ]
     },
     "execution_count": 23,
     "metadata": {},
     "output_type": "execute_result"
    },
    {
     "data": {
      "image/png": "[encoded data removed]",
      "text/plain": [
       "<matplotlib.figure.Figure at 0x117a79e80>"
      ]
     },
     "metadata": {},
     "output_type": "display_data"
    }
   ],
   "source": [
    "\n",
    "fig = plt.figure(figsize=(14, 8))\n",
    "\n",
    "ax0 = fig.add_subplot(2,2,1)\n",
    "ax1 = fig.add_subplot(2,2,2)\n",
    "ax2 = fig.add_subplot(2,2,3)\n",
    "ax3 = fig.add_subplot(2,2,4)\n",
    "\n",
    "sns.regplot(x='T_yield10', y='BIT/USD', data=df4, ax=ax0)\n",
    "sns.regplot(x='VIX', y='BIT/USD', data=df4, ax=ax1)\n",
    "sns.regplot(x='SP500', y='BIT/USD', data=df4, ax=ax2)\n",
    "sns.regplot(x='Nasdaq', y='BIT/USD', data=df4, ax=ax3)\n"
   ]
  },
  {
   "cell_type": "markdown",
   "metadata": {},
   "source": [
    "There correlation observed from the charts. "
   ]
  },
  {
   "cell_type": "code",
   "execution_count": 24,
   "metadata": {
    "collapsed": true
   },
   "outputs": [],
   "source": [
    "X_train, X_test, y_train, y_test = train_test_split(X, y, test_size=0.3, random_state=1)"
   ]
  },
  {
   "cell_type": "code",
   "execution_count": 25,
   "metadata": {
    "scrolled": false
   },
   "outputs": [
    {
     "data": {
      "text/html": [
       "<div>\n",
       "<style>\n",
       "    .dataframe thead tr:only-child th {\n",
       "        text-align: right;\n",
       "    }\n",
       "\n",
       "    .dataframe thead th {\n",
       "        text-align: left;\n",
       "    }\n",
       "\n",
       "    .dataframe tbody tr th {\n",
       "        vertical-align: top;\n",
       "    }\n",
       "</style>\n",
       "<table border=\"1\" class=\"dataframe\">\n",
       "  <thead>\n",
       "    <tr style=\"text-align: right;\">\n",
       "      <th></th>\n",
       "      <th>T_yield10</th>\n",
       "      <th>VIX</th>\n",
       "      <th>SP500</th>\n",
       "      <th>Nasdaq</th>\n",
       "    </tr>\n",
       "  </thead>\n",
       "  <tbody>\n",
       "    <tr>\n",
       "      <th>510</th>\n",
       "      <td>-0.420617</td>\n",
       "      <td>1.905003</td>\n",
       "      <td>-1.572728</td>\n",
       "      <td>-1.813357</td>\n",
       "    </tr>\n",
       "    <tr>\n",
       "      <th>376</th>\n",
       "      <td>-0.668737</td>\n",
       "      <td>-0.715574</td>\n",
       "      <td>0.392985</td>\n",
       "      <td>0.416110</td>\n",
       "    </tr>\n",
       "    <tr>\n",
       "      <th>10</th>\n",
       "      <td>-1.210209</td>\n",
       "      <td>-1.377287</td>\n",
       "      <td>0.146021</td>\n",
       "      <td>0.263909</td>\n",
       "    </tr>\n",
       "    <tr>\n",
       "      <th>857</th>\n",
       "      <td>0.929201</td>\n",
       "      <td>-0.762883</td>\n",
       "      <td>0.008029</td>\n",
       "      <td>0.794584</td>\n",
       "    </tr>\n",
       "    <tr>\n",
       "      <th>826</th>\n",
       "      <td>-0.832951</td>\n",
       "      <td>0.499571</td>\n",
       "      <td>-0.512631</td>\n",
       "      <td>0.419166</td>\n",
       "    </tr>\n",
       "  </tbody>\n",
       "</table>\n",
       "</div>"
      ],
      "text/plain": [
       "     T_yield10       VIX     SP500    Nasdaq\n",
       "510  -0.420617  1.905003 -1.572728 -1.813357\n",
       "376  -0.668737 -0.715574  0.392985  0.416110\n",
       "10   -1.210209 -1.377287  0.146021  0.263909\n",
       "857   0.929201 -0.762883  0.008029  0.794584\n",
       "826  -0.832951  0.499571 -0.512631  0.419166"
      ]
     },
     "execution_count": 25,
     "metadata": {},
     "output_type": "execute_result"
    }
   ],
   "source": [
    "X_train.head()"
   ]
  },
  {
   "cell_type": "markdown",
   "metadata": {},
   "source": [
    "Linear Regression model"
   ]
  },
  {
   "cell_type": "code",
   "execution_count": 26,
   "metadata": {
    "collapsed": true
   },
   "outputs": [],
   "source": [
    "lre=LinearRegression()"
   ]
  },
  {
   "cell_type": "code",
   "execution_count": 27,
   "metadata": {},
   "outputs": [
    {
     "data": {
      "text/plain": [
       "-0.004269677406289363"
      ]
     },
     "execution_count": 27,
     "metadata": {},
     "output_type": "execute_result"
    }
   ],
   "source": [
    "lre.fit(X_train[['T_yield10']], y_train)\n",
    "lre.score(X_test[['T_yield10']], y_test)"
   ]
  },
  {
   "cell_type": "code",
   "execution_count": 28,
   "metadata": {
    "scrolled": true
   },
   "outputs": [
    {
     "data": {
      "text/plain": [
       "-0.0031420271417628154"
      ]
     },
     "execution_count": 28,
     "metadata": {},
     "output_type": "execute_result"
    }
   ],
   "source": [
    "lre.fit(X_train[['VIX']], y_train)\n",
    "lre.score(X_test[['VIX']], y_test)"
   ]
  },
  {
   "cell_type": "code",
   "execution_count": 29,
   "metadata": {},
   "outputs": [
    {
     "data": {
      "text/plain": [
       "-0.005178741417809052"
      ]
     },
     "execution_count": 29,
     "metadata": {},
     "output_type": "execute_result"
    }
   ],
   "source": [
    "lre.fit(X_train[['SP500']], y_train)\n",
    "lre.score(X_test[['SP500']], y_test)"
   ]
  },
  {
   "cell_type": "code",
   "execution_count": 30,
   "metadata": {},
   "outputs": [
    {
     "data": {
      "text/plain": [
       "-0.004899490946022711"
      ]
     },
     "execution_count": 30,
     "metadata": {},
     "output_type": "execute_result"
    }
   ],
   "source": [
    "lre.fit(X_train[['Nasdaq']], y_train)\n",
    "lre.score(X_test[['Nasdaq']], y_test)"
   ]
  },
  {
   "cell_type": "code",
   "execution_count": 31,
   "metadata": {
    "collapsed": true
   },
   "outputs": [],
   "source": [
    "lre.fit(X_train, y_train)\n",
    "yhat_test = lre.predict(X_test)"
   ]
  },
  {
   "cell_type": "code",
   "execution_count": 32,
   "metadata": {
    "collapsed": true
   },
   "outputs": [],
   "source": [
    "def DistributionPlot(RedFunction, BlueFunction, RedName, BlueName, Title):\n",
    "    width = 12\n",
    "    height = 10\n",
    "    plt.figure(figsize=(width, height))\n",
    "\n",
    "    ax1 = sns.distplot(RedFunction, hist=False, color=\"r\", label=RedName)\n",
    "    ax2 = sns.distplot(BlueFunction, hist=False, color=\"b\", label=BlueName, ax=ax1)\n",
    "\n",
    "    plt.title(Title)\n",
    "    plt.xlabel('Price (in dollars)')\n",
    "    plt.ylabel('Proportion of Cars')\n",
    "\n",
    "    plt.show()\n",
    "    plt.close()"
   ]
  },
  {
   "cell_type": "code",
   "execution_count": 33,
   "metadata": {
    "scrolled": true
   },
   "outputs": [
    {
     "name": "stderr",
     "output_type": "stream",
     "text": [
      "/anaconda3/lib/python3.6/site-packages/scipy/stats/stats.py:1633: FutureWarning: Using a non-tuple sequence for multidimensional indexing is deprecated; use `arr[tuple(seq)]` instead of `arr[seq]`. In the future this will be interpreted as an array index, `arr[np.array(seq)]`, which will result either in an error or a different result.\n",
      "  return np.add.reduce(sorted[indexer] * weights, axis=axis) / sumval\n"
     ]
    },
    {
     "data": {
      "image/png": "[encoded data removed]",
      "text/plain": [
       "<matplotlib.figure.Figure at 0x115aa2fd0>"
      ]
     },
     "metadata": {},
     "output_type": "display_data"
    }
   ],
   "source": [
    "Title='Distribution  Plot of  Predicted Value Using Test Data vs Data Distribution of Test Data'\n",
    "DistributionPlot(y_test,yhat_test,\"Actual Values (Test)\",\"Predicted Values (Test)\",Title)"
   ]
  },
  {
   "cell_type": "markdown",
   "metadata": {},
   "source": [
    "### Result and conclusion (for MLR)"
   ]
  },
  {
   "cell_type": "markdown",
   "metadata": {},
   "source": [
    "As can be seen, the multiple linear regression performed pretty badly. There maybe two reason: one is the poor predictability of the features; the onther one is the poor performance of the MLR model. "
   ]
  },
  {
   "cell_type": "markdown",
   "metadata": {},
   "source": [
    "Further features and models should be considered and searched. "
   ]
  },
  {
   "cell_type": "markdown",
   "metadata": {},
   "source": [
    "### K nearest neighbor (KNN)"
   ]
  },
  {
   "cell_type": "code",
   "execution_count": 34,
   "metadata": {
    "collapsed": true
   },
   "outputs": [],
   "source": [
    "from sklearn.neighbors import KNeighborsClassifier\n",
    "from sklearn import metrics"
   ]
  },
  {
   "cell_type": "code",
   "execution_count": 35,
   "metadata": {
    "collapsed": true
   },
   "outputs": [],
   "source": [
    "df5 = df4.copy()"
   ]
  },
  {
   "cell_type": "code",
   "execution_count": 36,
   "metadata": {},
   "outputs": [],
   "source": [
    "df5.loc[df5['BIT/USD']>=0,'BIT/USD']=1\n",
    "df5.loc[df5['BIT/USD']<0,'BIT/USD']=0"
   ]
  },
  {
   "cell_type": "code",
   "execution_count": 37,
   "metadata": {},
   "outputs": [
    {
     "data": {
      "text/plain": [
       "0.0    758\n",
       "1.0    583\n",
       "Name: BIT/USD, dtype: int64"
      ]
     },
     "execution_count": 37,
     "metadata": {},
     "output_type": "execute_result"
    }
   ],
   "source": [
    "df5['BIT/USD'].value_counts()"
   ]
  },
  {
   "cell_type": "code",
   "execution_count": 38,
   "metadata": {
    "collapsed": true
   },
   "outputs": [],
   "source": [
    "X = df5[['T_yield10','VIX','SP500','Nasdaq']]\n",
    "y = df5[['BIT/USD']]\n",
    "X_train, X_test, y_train, y_test = train_test_split(X, y, test_size=0.3, random_state=1)"
   ]
  },
  {
   "cell_type": "markdown",
   "metadata": {},
   "source": [
    "Calculate the accuracy of KNN for different Ks."
   ]
  },
  {
   "cell_type": "code",
   "execution_count": 39,
   "metadata": {},
   "outputs": [
    {
     "name": "stderr",
     "output_type": "stream",
     "text": [
      "/anaconda3/lib/python3.6/site-packages/ipykernel_launcher.py:8: DataConversionWarning: A column-vector y was passed when a 1d array was expected. Please change the shape of y to (n_samples, ), for example using ravel().\n",
      "  \n"
     ]
    },
    {
     "data": {
      "text/plain": [
       "array([0.52109181, 0.53598015, 0.49379653, 0.53101737, 0.48138958,\n",
       "       0.51116625, 0.51612903, 0.53349876, 0.52853598])"
      ]
     },
     "execution_count": 39,
     "metadata": {},
     "output_type": "execute_result"
    }
   ],
   "source": [
    "Ks = 10\n",
    "mean_acc = np.zeros((Ks-1))\n",
    "std_acc = np.zeros((Ks-1))\n",
    "ConfustionMx = [];\n",
    "for n in range(1,Ks):\n",
    "    \n",
    "    #Train Model and Predict  \n",
    "    neigh = KNeighborsClassifier(n_neighbors = n).fit(X_train,y_train)\n",
    "    yhat=neigh.predict(X_test)\n",
    "    mean_acc[n-1] = metrics.accuracy_score(y_test, yhat)\n",
    "\n",
    "mean_acc"
   ]
  },
  {
   "cell_type": "markdown",
   "metadata": {},
   "source": [
    "Plot model accuracy for Different number of Neighbors"
   ]
  },
  {
   "cell_type": "code",
   "execution_count": 40,
   "metadata": {},
   "outputs": [
    {
     "data": {
      "image/png": "[encoded data removed]",
      "text/plain": [
       "<matplotlib.figure.Figure at 0x1181567f0>"
      ]
     },
     "metadata": {},
     "output_type": "display_data"
    }
   ],
   "source": [
    "plt.plot(range(1,Ks),mean_acc,'g')\n",
    "plt.fill_between(range(1,Ks),mean_acc - 1 * std_acc,mean_acc + 1 * std_acc, alpha=0.10)\n",
    "plt.legend(('Accuracy ', '+/- 3xstd'))\n",
    "plt.ylabel('Accuracy ')\n",
    "plt.xlabel('Number of Nabors (K)')\n",
    "plt.tight_layout()\n",
    "plt.show()"
   ]
  },
  {
   "cell_type": "code",
   "execution_count": 41,
   "metadata": {
    "scrolled": true
   },
   "outputs": [
    {
     "name": "stdout",
     "output_type": "stream",
     "text": [
      "The best accuracy was with 0.5359801488833746 with k= 2\n"
     ]
    }
   ],
   "source": [
    "print( \"The best accuracy was with\", mean_acc.max(), \"with k=\", mean_acc.argmax()+1) "
   ]
  },
  {
   "cell_type": "markdown",
   "metadata": {},
   "source": [
    "### Result "
   ]
  },
  {
   "cell_type": "code",
   "execution_count": 42,
   "metadata": {},
   "outputs": [
    {
     "name": "stdout",
     "output_type": "stream",
     "text": [
      "Train set accuracy:  0.7494669509594882\n",
      "Test set accuracy:  0.5359801488833746\n"
     ]
    },
    {
     "name": "stderr",
     "output_type": "stream",
     "text": [
      "/anaconda3/lib/python3.6/site-packages/ipykernel_launcher.py:4: DataConversionWarning: A column-vector y was passed when a 1d array was expected. Please change the shape of y to (n_samples, ), for example using ravel().\n",
      "  after removing the cwd from sys.path.\n"
     ]
    }
   ],
   "source": [
    "# write your code here\n",
    "\n",
    "k =2\n",
    "neigh2 = KNeighborsClassifier(n_neighbors=k).fit(X_train, y_train)\n",
    "yhat2 = neigh2.predict(X_test)\n",
    "print('Train set accuracy: ', metrics.accuracy_score(y_train, neigh2.predict(X_train)))\n",
    "print('Test set accuracy: ', metrics.accuracy_score(y_test, yhat2))\n"
   ]
  },
  {
   "cell_type": "markdown",
   "metadata": {},
   "source": [
    "### Conlusion (for KNN)\n",
    "The 2-KNN model seems not bad from the result. Further exploration should be conducted."
   ]
  },
  {
   "cell_type": "markdown",
   "metadata": {},
   "source": [
    "NOTE: to be honest, I am not happy with this work. But my subscription will be due soon..."
   ]
  }
 ],
 "metadata": {
  "kernelspec": {
   "display_name": "Python 3",
   "language": "python",
   "name": "python3"
  },
  "language_info": {
   "codemirror_mode": {
    "name": "ipython",
    "version": 3
   },
   "file_extension": ".py",
   "mimetype": "text/x-python",
   "name": "python",
   "nbconvert_exporter": "python",
   "pygments_lexer": "ipython3",
   "version": "3.6.7"
  }
 },
 "nbformat": 4,
 "nbformat_minor": 2
}
